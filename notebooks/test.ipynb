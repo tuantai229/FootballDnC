{
 "cells": [
  {
   "cell_type": "code",
   "execution_count": 3,
   "metadata": {},
   "outputs": [
    {
     "name": "stdout",
     "output_type": "stream",
     "text": [
      "YOLOv11 được hỗ trợ!\n"
     ]
    }
   ],
   "source": [
    "from ultralytics import YOLO\n",
    "try:\n",
    "    # Thử tải YOLOv11n\n",
    "    model = YOLO('yolo11n.pt')\n",
    "    print(\"YOLOv11 được hỗ trợ!\")\n",
    "except Exception as e:\n",
    "    print(f\"YOLOv11 không được hỗ trợ: {e}\")"
   ]
  }
 ],
 "metadata": {
  "kernelspec": {
   "display_name": "football",
   "language": "python",
   "name": "python3"
  },
  "language_info": {
   "codemirror_mode": {
    "name": "ipython",
    "version": 3
   },
   "file_extension": ".py",
   "mimetype": "text/x-python",
   "name": "python",
   "nbconvert_exporter": "python",
   "pygments_lexer": "ipython3",
   "version": "3.10.16"
  }
 },
 "nbformat": 4,
 "nbformat_minor": 2
}
